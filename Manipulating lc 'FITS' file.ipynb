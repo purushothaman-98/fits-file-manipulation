{
 "cells": [
  {
   "cell_type": "code",
   "execution_count": 22,
   "metadata": {},
   "outputs": [],
   "source": [
    "import os\n",
    "import glob\n",
    "import numpy as np\n",
    "import matplotlib as mpl\n",
    "import matplotlib.pyplot as plt\n",
    "from astropy.io import fits"
   ]
  },
  {
   "cell_type": "code",
   "execution_count": 45,
   "metadata": {},
   "outputs": [],
   "source": [
    "\n",
    "hdu = fits.open('/home/kowsika/sasdata/MY_OBS/0600970201/pn_lccorr.lc')\n",
    "\n",
    "\n"
   ]
  },
  {
   "cell_type": "code",
   "execution_count": 46,
   "metadata": {},
   "outputs": [
    {
     "name": "stdout",
     "output_type": "stream",
     "text": [
      "Filename: /home/kowsika/sasdata/MY_OBS/0600970201/pn_lccorr.lc\n",
      "No.    Name      Ver    Type      Cards   Dimensions   Format\n",
      "  0  PRIMARY       1 PrimaryHDU      17   ()      \n",
      "  1  RATE          1 BinTableHDU     83   178R x 6C   [D, E, E, E, E, E]   \n",
      "  2  SRC_GTIS      1 BinTableHDU     28   1R x 2C   [D, D]   \n",
      "  3  BKG_GTIS      1 BinTableHDU     28   1R x 2C   [D, D]   \n",
      "  4  REG00106      1 BinTableHDU     24   1R x 5C   [16A, E, E, E, B]   \n"
     ]
    }
   ],
   "source": [
    "hdu.info()\n"
   ]
  },
  {
   "cell_type": "code",
   "execution_count": 47,
   "metadata": {},
   "outputs": [
    {
     "name": "stdout",
     "output_type": "stream",
     "text": [
      "ColDefs(\n",
      "    name = 'TIME'; format = 'D'; unit = 's'\n",
      "    name = 'RATE'; format = 'E'; unit = 'count/s'\n",
      "    name = 'ERROR'; format = 'E'; unit = 'count/s'\n",
      "    name = 'FRACEXP'; format = 'E'; unit = 'fraction'\n",
      "    name = 'BACKV'; format = 'E'; unit = 'count/s'\n",
      "    name = 'BACKE'; format = 'E'; unit = 'count/s'\n",
      ")\n"
     ]
    }
   ],
   "source": [
    "print(hdu[1].columns)"
   ]
  },
  {
   "cell_type": "code",
   "execution_count": 48,
   "metadata": {},
   "outputs": [],
   "source": [
    "\n",
    "\n",
    "from astropy.table import Table\n",
    "\n",
    "evt_data = Table(hdu[1].data)\n",
    "\n",
    "\n"
   ]
  },
  {
   "cell_type": "code",
   "execution_count": 49,
   "metadata": {},
   "outputs": [
    {
     "data": {
      "text/html": [
       "<i>Table length=178</i>\n",
       "<table id=\"table139852725704720\" class=\"table-striped table-bordered table-condensed\">\n",
       "<thead><tr><th>TIME</th><th>RATE</th><th>ERROR</th><th>FRACEXP</th><th>BACKV</th><th>BACKE</th></tr></thead>\n",
       "<thead><tr><th>float64</th><th>float32</th><th>float32</th><th>float32</th><th>float32</th><th>float32</th></tr></thead>\n",
       "<tr><td>359070104.910485</td><td>0.37989503</td><td>0.058186628</td><td>0.8591279</td><td>0.0010028862</td><td>0.0010028862</td></tr>\n",
       "<tr><td>359070304.910485</td><td>0.36592036</td><td>0.056715596</td><td>0.8711094</td><td>0.0009898188</td><td>0.0009898188</td></tr>\n",
       "<tr><td>359070504.910485</td><td>0.40749317</td><td>0.06015922</td><td>0.8692749</td><td>0.002982068</td><td>0.0017216979</td></tr>\n",
       "<tr><td>359070704.910485</td><td>0.40664887</td><td>0.06020193</td><td>0.8588265</td><td>0.0010030717</td><td>0.0010030717</td></tr>\n",
       "<tr><td>359070904.910485</td><td>0.2725416</td><td>0.049247142</td><td>0.8619948</td><td>0.0009996529</td><td>0.0009996529</td></tr>\n",
       "<tr><td>359071104.910485</td><td>0.35526842</td><td>0.056254044</td><td>0.86837506</td><td>0.002979823</td><td>0.0017204016</td></tr>\n",
       "<tr><td>359071304.910485</td><td>0.2962923</td><td>0.05109539</td><td>0.87005126</td><td>0.000992025</td><td>0.000992025</td></tr>\n",
       "<tr><td>359071504.910485</td><td>0.33102646</td><td>0.05450501</td><td>0.8629029</td><td>0.0029990007</td><td>0.0017314738</td></tr>\n",
       "<tr><td>359071704.910485</td><td>0.28825337</td><td>0.050753463</td><td>0.86333305</td><td>0.0019953693</td><td>0.0014109393</td></tr>\n",
       "<tr><td>359071904.910485</td><td>0.38100916</td><td>0.058432564</td><td>0.8662717</td><td>0.0039800024</td><td>0.0019900012</td></tr>\n",
       "<tr><td>...</td><td>...</td><td>...</td><td>...</td><td>...</td><td>...</td></tr>\n",
       "<tr><td>359103704.910485</td><td>0.46856904</td><td>0.06482015</td><td>0.85638225</td><td>0.00201091</td><td>0.001421928</td></tr>\n",
       "<tr><td>359103904.910485</td><td>0.38344908</td><td>0.058054477</td><td>0.87103283</td><td>0.0009909937</td><td>0.0009909937</td></tr>\n",
       "<tr><td>359104104.910485</td><td>0.42822516</td><td>0.06164644</td><td>0.86586607</td><td>0.0019931581</td><td>0.0014093757</td></tr>\n",
       "<tr><td>359104304.910485</td><td>0.2391109</td><td>0.046337284</td><td>0.85503906</td><td>0.0010057442</td><td>0.0010057442</td></tr>\n",
       "<tr><td>359104504.910485</td><td>0.20085661</td><td>0.042572398</td><td>0.8595894</td><td>0.0020018385</td><td>0.0014155137</td></tr>\n",
       "<tr><td>359104704.910485</td><td>0.34150827</td><td>0.05494828</td><td>0.86644274</td><td>0.0009929847</td><td>0.0009929847</td></tr>\n",
       "<tr><td>359104904.910485</td><td>0.3403127</td><td>0.05502143</td><td>0.86562103</td><td>0.0019910377</td><td>0.0014078763</td></tr>\n",
       "<tr><td>359105104.910485</td><td>0.36565605</td><td>0.056675162</td><td>0.8717321</td><td>0.000991052</td><td>0.000991052</td></tr>\n",
       "<tr><td>359105304.910485</td><td>0.25149444</td><td>0.047932547</td><td>0.8579226</td><td>0.0040062335</td><td>0.0020031168</td></tr>\n",
       "<tr><td>359105504.910485</td><td>0.3101984</td><td>0.12663797</td><td>0.14740376</td><td>0.0</td><td>0.0</td></tr>\n",
       "</table>"
      ],
      "text/plain": [
       "<Table length=178>\n",
       "      TIME          RATE       ERROR     FRACEXP      BACKV        BACKE    \n",
       "    float64       float32     float32    float32     float32      float32   \n",
       "---------------- ---------- ----------- ---------- ------------ ------------\n",
       "359070104.910485 0.37989503 0.058186628  0.8591279 0.0010028862 0.0010028862\n",
       "359070304.910485 0.36592036 0.056715596  0.8711094 0.0009898188 0.0009898188\n",
       "359070504.910485 0.40749317  0.06015922  0.8692749  0.002982068 0.0017216979\n",
       "359070704.910485 0.40664887  0.06020193  0.8588265 0.0010030717 0.0010030717\n",
       "359070904.910485  0.2725416 0.049247142  0.8619948 0.0009996529 0.0009996529\n",
       "359071104.910485 0.35526842 0.056254044 0.86837506  0.002979823 0.0017204016\n",
       "359071304.910485  0.2962923  0.05109539 0.87005126  0.000992025  0.000992025\n",
       "359071504.910485 0.33102646  0.05450501  0.8629029 0.0029990007 0.0017314738\n",
       "359071704.910485 0.28825337 0.050753463 0.86333305 0.0019953693 0.0014109393\n",
       "359071904.910485 0.38100916 0.058432564  0.8662717 0.0039800024 0.0019900012\n",
       "             ...        ...         ...        ...          ...          ...\n",
       "359103704.910485 0.46856904  0.06482015 0.85638225   0.00201091  0.001421928\n",
       "359103904.910485 0.38344908 0.058054477 0.87103283 0.0009909937 0.0009909937\n",
       "359104104.910485 0.42822516  0.06164644 0.86586607 0.0019931581 0.0014093757\n",
       "359104304.910485  0.2391109 0.046337284 0.85503906 0.0010057442 0.0010057442\n",
       "359104504.910485 0.20085661 0.042572398  0.8595894 0.0020018385 0.0014155137\n",
       "359104704.910485 0.34150827  0.05494828 0.86644274 0.0009929847 0.0009929847\n",
       "359104904.910485  0.3403127  0.05502143 0.86562103 0.0019910377 0.0014078763\n",
       "359105104.910485 0.36565605 0.056675162  0.8717321  0.000991052  0.000991052\n",
       "359105304.910485 0.25149444 0.047932547  0.8579226 0.0040062335 0.0020031168\n",
       "359105504.910485  0.3101984  0.12663797 0.14740376          0.0          0.0"
      ]
     },
     "execution_count": 49,
     "metadata": {},
     "output_type": "execute_result"
    }
   ],
   "source": [
    "evt_data\n"
   ]
  },
  {
   "cell_type": "code",
   "execution_count": 50,
   "metadata": {},
   "outputs": [
    {
     "data": {
      "image/png": "[encoded data removed]",
      "text/plain": [
       "<Figure size 432x288 with 1 Axes>"
      ]
     },
     "metadata": {
      "needs_background": "light"
     },
     "output_type": "display_data"
    }
   ],
   "source": [
    "\n",
    "\n",
    "NBINS = 10\n",
    "RATE_hist = plt.hist(evt_data['RATE'], NBINS)\n",
    "\n"
   ]
  },
  {
   "cell_type": "code",
   "execution_count": null,
   "metadata": {},
   "outputs": [],
   "source": []
  },
  {
   "cell_type": "code",
   "execution_count": null,
   "metadata": {},
   "outputs": [],
   "source": []
  }
 ],
 "metadata": {
  "kernelspec": {
   "display_name": "Python 3",
   "language": "python",
   "name": "python3"
  },
  "language_info": {
   "codemirror_mode": {
    "name": "ipython",
    "version": 3
   },
   "file_extension": ".py",
   "mimetype": "text/x-python",
   "name": "python",
   "nbconvert_exporter": "python",
   "pygments_lexer": "ipython3",
   "version": "3.7.6"
  }
 },
 "nbformat": 4,
 "nbformat_minor": 4
}
